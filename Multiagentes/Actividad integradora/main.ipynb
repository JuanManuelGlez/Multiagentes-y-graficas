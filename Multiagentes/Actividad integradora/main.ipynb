{
 "cells": [
  {
   "cell_type": "markdown",
   "metadata": {},
   "source": [
    "# Actividad integradora\n",
    "\n",
    "## Descripción\n",
    "\n",
    "Felicidades! Eres el orgulloso propietario de 5 robots nuevos y un almacén lleno de cajas. El dueño anterior del almacén lo dejó en completo desorden, por lo que depende de tus robots organizar las cajas en algo parecido al orden y convertirlo en un negocio exitoso.\n",
    "\n",
    "Cada robot está equipado con ruedas omnidireccionales y, por lo tanto, puede conducir en las cuatro direcciones. Pueden recoger cajas en celdas de cuadrícula adyacentes con sus manipuladores, luego llevarlas a otra ubicación e incluso construir pilas de hasta cinco cajas. Todos los robots están equipados con la tecnología de sensores más nueva que les permite recibir datos de sensores de las cuatro celdas adyacentes. Por tanto, es fácil distinguir si un campo está libre, es una pared, contiene una pila de cajas (y cuantas cajas hay en la pila) o está ocupado por otro robot. Los robots también tienen sensores de presión equipados que les indican si llevan una caja en ese momento.\n",
    "\n",
    "Lamentablemente, tu presupuesto resultó insuficiente para adquirir un software de gestión de agentes múltiples de última generación. Pero eso no debería ser un gran problema ... ¿verdad? Tu tarea es enseñar a sus robots cómo ordenar su almacén. La organización de los agentes depende de ti, siempre que todas las cajas terminen en pilas ordenadas de cinco.\n",
    "\n",
    "## Puntos a considerar\n",
    "\n",
    "               \n",
    "    • La semilla para generación de números aleatorios será 67890.\n",
    "    • El almacén es 20x20 celdas.\n",
    "    • Al inicio de la simulación, tu solución deberá colocar 200 cajas repartidas en grupos de 1 a 3 cajas en posiciones aleatorias.\n",
    "    • Todos los robots empiezan en posiciones aleatorias vacías. Y, sólo puede haber un robot por celda.\n",
    "    • La simulación termina cuando todas las cajas se encuentra apiladas en pilas de exactamente 5 cajas.\n",
    "\n",
    "### ¿Qué debes entregar?\n",
    "\n",
    "Un cuaderno de Jupyter Notebook conteniendo un reporte de la actividad. El cuaderno deberá contener:\n",
    "\n",
    "    • Código fuente documentado.\n",
    "    • Descripción detallada de la estrategia y los mecanismos utilizados en tu solución.\n",
    "    • Una visualización que permita ver los diferentes pasos de la simulación.\n",
    "    • El número de pasos necesarios para terminar la simulación.\n",
    "    • ¿Existe una forma de reducir el número de pasos utilizados? Si es así, ¿cuál es la estrategia que se tendría en implementar?\n",
    "\n",
    "## Criterios de evaluación \n",
    "\n",
    "Los criterios que se utilizarán para evaluar sus soluciones y seleccionar a los tres primeros ganadores son los siguientes:\n",
    "\n",
    "    • Aplicación original, innovadora y efectiva de algoritmos computacionales para resolver problemas específicos.\n",
    "    • El rendimiento de la implementación. El rendimiento de la implementación se medirá en función los pasos necesarios para terminar la simulación.\n",
    "    • La calidad de la descripción de análisis, diseño e implementación del sistema multiagente, la elegancia de su diseño e implementación."
   ]
  },
  {
   "cell_type": "markdown",
   "metadata": {},
   "source": [
    "# Algoritmo \n",
    "\n",
    "- Generar la matriz con cajas aleatorias apiladas de 1 - 3\n",
    "- Generar los agentes en celdas vacias de manera aleatoria \n",
    "- Mover de manera aleatoria a celdas vecinas y vacias a los agentes\n",
    "    - Si un agente encuentra una pila de cajas menor a 5 toma una y la mueve a la pila de cajas mas cerca\n",
    "    - El agente se mueve de nuevo aleatoriamente y repite el proceso."
   ]
  },
  {
   "cell_type": "markdown",
   "metadata": {},
   "source": [
    "# Imports"
   ]
  },
  {
   "cell_type": "code",
   "execution_count": 31,
   "metadata": {},
   "outputs": [],
   "source": [
    "from mesa import Agent, Model\n",
    "from mesa.space import SingleGrid\n",
    "from mesa.time import RandomActivation\n",
    "from mesa.datacollection import DataCollector\n",
    "\n",
    "import numpy as np\n",
    "import pandas as pd\n",
    "\n",
    "import time as tm\n",
    "\n",
    "import datetime\n",
    "import time as tm\n",
    "import pandas as pd\n",
    "import numpy as np\n",
    "import matplotlib\n",
    "import matplotlib.pyplot as plt\n",
    "import matplotlib.animation as animation"
   ]
  },
  {
   "cell_type": "markdown",
   "metadata": {},
   "source": [
    "# Agent"
   ]
  },
  {
   "cell_type": "code",
   "execution_count": 32,
   "metadata": {},
   "outputs": [],
   "source": [
    "class BoxArrengmentAgent(Agent):\n",
    "    def __init__ (self, unique_id, model, isCarrying, numBoxes): \n",
    "        super().__init__(unique_id, model)\n",
    "        self.isCarrying = False\n",
    "        self.numBoxes = numBoxes\n",
    "\n",
    "    def step(self):\n",
    "        #si no esta cargando una caja, busca una caja para cargar\n",
    "        if self.isCarrying == False:\n",
    "            self.pickUpBox()\n",
    "        #si esta cargando una caja, busca donde dejarla\n",
    "        elif self.isCarrying == True:\n",
    "            self.dropBox()\n",
    "        #si pasa otra cosa estamos muy mal\n",
    "        else:\n",
    "            print(\"no se que esta pasando, no debería de entrar aqui\")\n",
    "        #Despues de ver si puede tomar o dejar cajas, se mueve\n",
    "        self.move()\n",
    "        \n",
    "        #En caso de que todas las pilas sean de 5 y todos los agentes tengan caja, uno de ellos tiene que dejarla\n",
    "        if self.model.pilas5 == 39 and self.isCarrying == True and self.unique_id == 1:\n",
    "            possibleSteps = self.model.grid.get_neighborhood(\n",
    "            self.pos, moore=False, include_center=False)\n",
    "        \n",
    "            for step in possibleSteps:\n",
    "                newX, newY = step\n",
    "                if self.model.floor[newX][newY] < 5:\n",
    "                    self.model.floor[newX][newY] += 1\n",
    "                    self.isCarrying = False\n",
    "                    self.numBoxes = 0\n",
    "                    if self.model.floor[newX][newY] == 5:\n",
    "                        self.model.pilas5 += 1\n",
    "                        print (\"Pilas de 5: \", self.model.pilas5)\n",
    "                    break\n",
    "\n",
    "    def pickUpBox(self):\n",
    "        #Revisa a sus vecinos si hay cajas y que no sean una pila de 5\n",
    "        possibleSteps = self.model.grid.get_neighborhood(\n",
    "            self.pos, moore=False, include_center=False)\n",
    "        \n",
    "        for step in possibleSteps:\n",
    "            newX, newY = step\n",
    "            if self.model.floor[newX][newY] > 0 and self.model.floor[newX][newY] < 5:\n",
    "                self.numBoxes = self.model.floor[newX][newY] #Numero de cajas que tenía la pila donde la tomo (nos servira para saber donde dejarla)\n",
    "                self.isCarrying = True\n",
    "                self.model.floor[newX][newY] -= 1\n",
    "                break\n",
    "    \n",
    "    def dropBox(self):\n",
    "        #revisar con sus vecinos si hay cajas que no sean pilas de 5 y sean del mismo o mayor tamaño de la pila de donde la tomó\n",
    "        possibleSteps = self.model.grid.get_neighborhood(\n",
    "            self.pos, moore=False, include_center=False)\n",
    "        \n",
    "        for step in possibleSteps:\n",
    "            newX, newY = step\n",
    "            if self.model.floor[newX][newY] < 5 and self.model.floor[newX][newY] > 0:\n",
    "                self.model.floor[newX][newY] += 1\n",
    "                self.isCarrying = False\n",
    "                self.numBoxes = 0\n",
    "                if self.model.floor[newX][newY] == 5:\n",
    "                    self.model.pilas5 += 1\n",
    "                    #print (\"Pilas de 5: \", self.model.pilas5)\n",
    "                break\n",
    "    \n",
    "    def move(self):\n",
    "        x,y = self.pos\n",
    "        possibleSteps = self.model.grid.get_neighborhood(\n",
    "            self.pos, moore=False, include_center=False) \n",
    "        \n",
    "        #Sacamos los vecinos de la celda actual que no tengan agentes (aqui puede que tengan cajas)\n",
    "        emptySteps = [step for step in possibleSteps if self.model.grid.is_cell_empty(step)]\n",
    "        \n",
    "        #De esos vecinos sin agentes quitamos las opciopnes que tengan cajas\n",
    "        for step in emptySteps:\n",
    "            newX, newY = step\n",
    "            if self.model.floor[newX][newY] > 0:\n",
    "                emptySteps.remove(step)\n",
    "\n",
    "        #Si existe un vecino sin caja ni agente, nos movemos ahí, si hay mas de uno lo selecciona de manera aleatoria\n",
    "        if emptySteps:\n",
    "            newX, newY = self.random.choice(emptySteps)\n",
    "            if not self.model.grid.out_of_bounds((newX, newY)):\n",
    "                self.model.grid.move_agent(self, (newX, newY))\n",
    "            #print(\"Me moví a \", newX, newY)\n",
    "        else:\n",
    "            print(\"No me moví\")\n",
    "\n",
    "        \n",
    "    \n",
    "\n"
   ]
  },
  {
   "cell_type": "code",
   "execution_count": 33,
   "metadata": {},
   "outputs": [],
   "source": [
    "#getGrid\n",
    "def getGrid(self):\n",
    "    return self.floor.copy()"
   ]
  },
  {
   "cell_type": "markdown",
   "metadata": {},
   "source": [
    "# Model"
   ]
  },
  {
   "cell_type": "markdown",
   "metadata": {},
   "source": []
  },
  {
   "cell_type": "code",
   "execution_count": 34,
   "metadata": {},
   "outputs": [],
   "source": [
    "from typing import Any\n",
    "\n",
    "\n",
    "class BoxArrengmentModel(Model):\n",
    "    def __init__ (self, width, heigth, totalBoxes, numAgents):\n",
    "        self.totalBoxes = totalBoxes\n",
    "        self.grid = SingleGrid(width, heigth, False)\n",
    "        self.schedule = RandomActivation(self)\n",
    "        self.numAgents = numAgents\n",
    "        self.steps = 0\n",
    "        self.width = width\n",
    "        self.heigth = heigth\n",
    "        self.pilas5 = 0 #Contador de pilas de 5\n",
    "        \n",
    "        #Semilla random\n",
    "        np.random.seed(67890)    \n",
    "\n",
    "        #Create floor\n",
    "        self.floor = np.zeros((self.width, self.heigth))\n",
    "\n",
    "\n",
    "        self.datacollector = DataCollector(\n",
    "            model_reporters = {\"Boxes\": getGrid, \"Agents\": getGrid}\n",
    "        )\n",
    "        \n",
    "        #Create Agents and place \n",
    "        id = 0\n",
    "        while(id < self.numAgents):\n",
    "            x = np.random.randint(0, self.width)\n",
    "            y = np.random.randint(0, self.heigth)\n",
    "            if (self.floor[x][y] == 0):\n",
    "                a = BoxArrengmentAgent(id, self, False, 0)\n",
    "                self.schedule.add(a)\n",
    "                self.grid.place_agent(a, (x,y))\n",
    "                id += 1\n",
    "\n",
    "        #Create Boxes and place\n",
    "        count = 0\n",
    "        while(count < totalBoxes):\n",
    "            x = np.random.randint(0, self.width)\n",
    "            y = np.random.randint(0, self.heigth)\n",
    "            if(self.floor[x][y] ==0):\n",
    "                num = np.random.randint(1,4)\n",
    "                if count + num < totalBoxes:\n",
    "                    self.floor[x][y] += num \n",
    "                    count += num\n",
    "                    #print (\"la cuenta va en \", count)\n",
    "                else:\n",
    "                    num = totalBoxes - count\n",
    "                    self.floor[x][y] += num\n",
    "                    count += num\n",
    "            \n",
    "        print (\"se generaron exitosamente \", count, \"Cajas al inicio.\")\n",
    "\n",
    "    def step(self):\n",
    "        self.steps += 1 \n",
    "        self.datacollector.collect(self)\n",
    "        self.schedule.step() \n",
    "           \n",
    "\n",
    "            "
   ]
  },
  {
   "cell_type": "markdown",
   "metadata": {},
   "source": [
    "# Simulación"
   ]
  },
  {
   "cell_type": "code",
   "execution_count": 35,
   "metadata": {},
   "outputs": [
    {
     "name": "stdout",
     "output_type": "stream",
     "text": [
      "se generaron exitosamente  200 Cajas al inicio.\n"
     ]
    },
    {
     "name": "stdout",
     "output_type": "stream",
     "text": [
      "No me moví\n",
      "[[0. 0. 5. 0. 0. 0. 0. 0. 0. 0. 0. 0. 5. 0. 0. 0. 0. 0. 5. 1.]\n",
      " [5. 0. 0. 0. 0. 0. 0. 0. 0. 0. 0. 0. 0. 0. 0. 0. 0. 0. 5. 0.]\n",
      " [0. 0. 5. 0. 0. 0. 0. 0. 0. 0. 0. 0. 0. 0. 0. 0. 0. 0. 0. 5.]\n",
      " [0. 0. 0. 0. 0. 0. 0. 0. 0. 0. 0. 0. 0. 0. 0. 0. 0. 0. 0. 0.]\n",
      " [5. 0. 0. 0. 5. 0. 0. 0. 0. 0. 0. 0. 0. 0. 0. 0. 0. 0. 0. 0.]\n",
      " [0. 0. 0. 0. 0. 5. 0. 0. 5. 0. 0. 0. 0. 0. 0. 0. 5. 0. 0. 0.]\n",
      " [0. 0. 0. 0. 0. 0. 0. 0. 0. 5. 0. 0. 0. 0. 0. 0. 0. 0. 0. 0.]\n",
      " [0. 0. 5. 0. 0. 0. 0. 0. 0. 0. 0. 0. 0. 5. 0. 0. 0. 5. 0. 0.]\n",
      " [0. 5. 0. 0. 0. 0. 0. 0. 0. 0. 0. 0. 0. 0. 0. 5. 0. 0. 0. 0.]\n",
      " [0. 0. 0. 0. 0. 0. 0. 0. 0. 0. 0. 0. 0. 0. 0. 0. 0. 0. 5. 0.]\n",
      " [0. 0. 0. 0. 0. 0. 0. 0. 0. 0. 5. 0. 0. 0. 0. 0. 0. 0. 0. 0.]\n",
      " [0. 0. 0. 0. 0. 0. 0. 0. 0. 0. 0. 0. 0. 0. 0. 0. 0. 0. 0. 0.]\n",
      " [5. 0. 0. 0. 0. 0. 0. 5. 0. 5. 0. 0. 0. 0. 5. 0. 5. 0. 0. 0.]\n",
      " [0. 0. 0. 0. 0. 0. 0. 0. 0. 0. 0. 0. 0. 0. 0. 0. 0. 5. 5. 0.]\n",
      " [0. 0. 0. 0. 0. 0. 0. 0. 0. 0. 0. 0. 0. 0. 0. 0. 0. 0. 0. 0.]\n",
      " [0. 0. 0. 5. 0. 0. 0. 0. 0. 0. 0. 0. 5. 0. 0. 5. 0. 0. 0. 0.]\n",
      " [0. 0. 0. 0. 0. 0. 0. 0. 0. 0. 0. 0. 0. 0. 5. 0. 0. 0. 0. 0.]\n",
      " [0. 0. 0. 0. 0. 5. 0. 0. 0. 0. 0. 5. 0. 0. 0. 0. 0. 0. 0. 0.]\n",
      " [5. 0. 0. 0. 5. 0. 5. 0. 0. 0. 5. 0. 0. 0. 0. 0. 0. 0. 5. 0.]\n",
      " [0. 0. 0. 0. 0. 0. 0. 0. 0. 0. 0. 0. 5. 0. 0. 0. 0. 0. 0. 0.]]\n"
     ]
    }
   ],
   "source": [
    "WIDTH = 20\n",
    "HEIGTH = 20\n",
    "TOTAL_BOXES = 200\n",
    "NUM_AGENTS = 5\n",
    "ITER = 100000\n",
    "\n",
    "model = BoxArrengmentModel(WIDTH, HEIGTH, TOTAL_BOXES, NUM_AGENTS)\n",
    "\n",
    "#print(model.floor)\n",
    "for i in range(ITER):\n",
    "    model.step()\n",
    "    if model.pilas5 == TOTAL_BOXES/5:\n",
    "        print(\"Se terminó en el paso \" , i)\n",
    "        break\n",
    "\n",
    "\n",
    "    \n",
    "print(model.floor)\n",
    "\n"
   ]
  },
  {
   "cell_type": "code",
   "execution_count": 36,
   "metadata": {},
   "outputs": [],
   "source": [
    "all_grid = model.datacollector.get_model_vars_dataframe()"
   ]
  },
  {
   "cell_type": "code",
   "execution_count": 37,
   "metadata": {},
   "outputs": [
    {
     "data": {
      "text/plain": [
       "<matplotlib.animation.FuncAnimation at 0x7f97fbc7fe10>"
      ]
     },
     "execution_count": 37,
     "metadata": {},
     "output_type": "execute_result"
    },
    {
     "data": {
      "image/png": "[encoded data removed]",
      "text/plain": [
       "<Figure size 500x500 with 1 Axes>"
      ]
     },
     "metadata": {},
     "output_type": "display_data"
    }
   ],
   "source": [
    "fig, axis = plt.subplots(figsize=(5, 5))\n",
    "boxData = all_grid.get(\"Boxes\")\n",
    "axis.set_xticks([])\n",
    "axis.set_yticks([])\n",
    "patch = axis.imshow(boxData[10], cmap=\"Greens\")\n",
    "\n",
    "def animate(i):\n",
    "    patch.set_data(boxData[i])\n",
    "    return patch\n",
    "    \n",
    "anim = animation.FuncAnimation(fig, animate, frames=ITER)\n",
    "anim"
   ]
  },
  {
   "cell_type": "code",
   "execution_count": 38,
   "metadata": {},
   "outputs": [
    {
     "data": {
      "text/plain": [
       "<matplotlib.animation.FuncAnimation at 0x7f97fbc7fe10>"
      ]
     },
     "execution_count": 38,
     "metadata": {},
     "output_type": "execute_result"
    }
   ],
   "source": [
    "anim"
   ]
  },
  {
   "cell_type": "code",
   "execution_count": 39,
   "metadata": {},
   "outputs": [
    {
     "name": "stdout",
     "output_type": "stream",
     "text": [
      "se generaron exitosamente  200 Cajas al inicio.\n"
     ]
    },
    {
     "name": "stdout",
     "output_type": "stream",
     "text": [
      "Se terminó en el paso  15920\n",
      "[[5. 0. 5. 0. 0. 0. 0. 0. 0. 0. 0. 0. 0. 0. 0. 0. 0. 0. 0. 0.]\n",
      " [0. 0. 0. 0. 0. 0. 0. 0. 0. 0. 5. 0. 0. 0. 0. 0. 0. 0. 5. 0.]\n",
      " [0. 0. 5. 0. 0. 0. 0. 0. 0. 0. 0. 0. 0. 0. 0. 5. 0. 5. 0. 0.]\n",
      " [0. 0. 0. 0. 0. 0. 0. 0. 0. 0. 0. 0. 0. 0. 0. 0. 0. 0. 0. 0.]\n",
      " [5. 0. 0. 5. 0. 0. 0. 5. 0. 0. 0. 0. 0. 0. 0. 0. 0. 0. 0. 0.]\n",
      " [0. 0. 0. 0. 0. 0. 0. 0. 0. 0. 0. 0. 0. 0. 0. 0. 5. 0. 0. 0.]\n",
      " [0. 0. 0. 0. 0. 0. 0. 0. 0. 5. 0. 0. 0. 5. 0. 0. 0. 0. 0. 0.]\n",
      " [0. 0. 0. 0. 0. 0. 5. 0. 0. 0. 0. 0. 0. 5. 0. 0. 0. 0. 0. 0.]\n",
      " [0. 5. 0. 0. 0. 0. 0. 0. 0. 0. 0. 0. 0. 0. 0. 0. 0. 0. 0. 5.]\n",
      " [0. 0. 0. 0. 0. 0. 0. 0. 0. 0. 0. 0. 0. 0. 0. 0. 0. 0. 5. 0.]\n",
      " [0. 5. 0. 0. 0. 0. 0. 0. 0. 5. 0. 0. 0. 0. 0. 0. 0. 0. 0. 0.]\n",
      " [0. 0. 5. 0. 0. 0. 0. 0. 0. 0. 5. 0. 0. 0. 0. 0. 5. 0. 0. 0.]\n",
      " [0. 0. 0. 0. 0. 0. 0. 0. 0. 5. 0. 0. 0. 0. 0. 0. 0. 0. 0. 0.]\n",
      " [0. 0. 5. 0. 0. 0. 0. 0. 0. 0. 0. 0. 0. 0. 0. 0. 0. 0. 0. 0.]\n",
      " [0. 0. 0. 0. 0. 0. 0. 0. 0. 0. 0. 0. 0. 0. 0. 0. 0. 0. 0. 0.]\n",
      " [5. 0. 5. 5. 0. 0. 0. 0. 0. 0. 0. 0. 0. 0. 0. 5. 0. 0. 0. 0.]\n",
      " [0. 0. 0. 0. 0. 0. 0. 0. 0. 0. 0. 0. 5. 5. 5. 0. 0. 0. 0. 5.]\n",
      " [0. 0. 0. 0. 0. 0. 0. 0. 0. 0. 0. 0. 0. 0. 0. 0. 0. 0. 0. 0.]\n",
      " [5. 0. 0. 0. 5. 0. 5. 0. 0. 0. 5. 0. 0. 0. 0. 0. 0. 0. 0. 0.]\n",
      " [0. 0. 0. 0. 0. 0. 0. 0. 0. 0. 5. 0. 0. 0. 5. 0. 0. 0. 0. 5.]]\n"
     ]
    }
   ],
   "source": [
    "WIDTH = 20\n",
    "HEIGTH = 20\n",
    "TOTAL_BOXES = 200\n",
    "NUM_AGENTS = 5\n",
    "ITER = 30000\n",
    "\n",
    "model = BoxArrengmentModel(WIDTH, HEIGTH, TOTAL_BOXES, NUM_AGENTS)\n",
    "\n",
    "#print(model.floor)\n",
    "for i in range(ITER):\n",
    "    model.step()\n",
    "    if model.pilas5 == TOTAL_BOXES/5:\n",
    "        print(\"Se terminó en el paso \" , i)\n",
    "        break\n",
    "\n",
    "\n",
    "    \n",
    "print(model.floor)\n",
    "\n"
   ]
  },
  {
   "cell_type": "code",
   "execution_count": 40,
   "metadata": {},
   "outputs": [
    {
     "name": "stderr",
     "output_type": "stream",
     "text": [
      "/tmp/ipykernel_14454/1826335141.py:5: FutureWarning: Series.__getitem__ treating keys as positions is deprecated. In a future version, integer keys will always be treated as labels (consistent with DataFrame behavior). To access a value by position, use `ser.iloc[pos]`\n",
      "  patch = plt.imshow(all_grid.iloc[0][0], cmap=plt.cm.binary_r)\n",
      "/tmp/ipykernel_14454/1826335141.py:8: FutureWarning: Series.__getitem__ treating keys as positions is deprecated. In a future version, integer keys will always be treated as labels (consistent with DataFrame behavior). To access a value by position, use `ser.iloc[pos]`\n",
      "  patch.set_data(all_grid.iloc[i][0])\n"
     ]
    },
    {
     "data": {
      "image/png": "[encoded data removed]",
      "text/plain": [
       "<Figure size 500x500 with 1 Axes>"
      ]
     },
     "metadata": {},
     "output_type": "display_data"
    }
   ],
   "source": [
    "all_grid = model.datacollector.get_model_vars_dataframe()\n",
    "fig, axis = plt.subplots(figsize=(5, 5))\n",
    "axis.set_xticks([])\n",
    "axis.set_yticks([])\n",
    "patch = plt.imshow(all_grid.iloc[0][0], cmap=plt.cm.binary_r)\n",
    "\n",
    "def animate(i):\n",
    "    patch.set_data(all_grid.iloc[i][0])\n",
    "    \n",
    "anim = animation.FuncAnimation(fig, animate, frames=ITER)"
   ]
  },
  {
   "cell_type": "code",
   "execution_count": 41,
   "metadata": {},
   "outputs": [
    {
     "data": {
      "text/plain": [
       "<matplotlib.animation.FuncAnimation at 0x7f97fcf5c650>"
      ]
     },
     "execution_count": 41,
     "metadata": {},
     "output_type": "execute_result"
    }
   ],
   "source": [
    "anim"
   ]
  }
 ],
 "metadata": {
  "kernelspec": {
   "display_name": "base",
   "language": "python",
   "name": "python3"
  },
  "language_info": {
   "codemirror_mode": {
    "name": "ipython",
    "version": 3
   },
   "file_extension": ".py",
   "mimetype": "text/x-python",
   "name": "python",
   "nbconvert_exporter": "python",
   "pygments_lexer": "ipython3",
   "version": "3.11.6"
  }
 },
 "nbformat": 4,
 "nbformat_minor": 2
}
